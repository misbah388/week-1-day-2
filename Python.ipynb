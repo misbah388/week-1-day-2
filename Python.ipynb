{
 "cells": [
  {
   "cell_type": "markdown",
   "id": "8117fd5a",
   "metadata": {},
   "source": [
    "# Python"
   ]
  },
  {
   "cell_type": "code",
   "execution_count": null,
   "id": "613154cd",
   "metadata": {},
   "outputs": [],
   "source": [
    "# websites #Mobile Apps #Game At tool"
   ]
  },
  {
   "cell_type": "code",
   "execution_count": 3,
   "id": "d5d832cb",
   "metadata": {},
   "outputs": [
    {
     "data": {
      "text/plain": [
       "'this is a book.this is my book.'"
      ]
     },
     "execution_count": 3,
     "metadata": {},
     "output_type": "execute_result"
    }
   ],
   "source": [
    "#varibles:\n",
    "X=\"this is a book.this is my book.\"\n",
    "X"
   ]
  },
  {
   "cell_type": "code",
   "execution_count": 20,
   "id": "8a752c37",
   "metadata": {},
   "outputs": [
    {
     "data": {
      "text/plain": [
       "[45, 'ali,abid', 'Harry', 69]"
      ]
     },
     "execution_count": 20,
     "metadata": {},
     "output_type": "execute_result"
    }
   ],
   "source": [
    "# list:\n",
    "Integers=45,34,2,3,5\n",
    "Float=45.6,23.4\n",
    "String='hello'\"45,6\"\n",
    "w=[45,67,\"ali,abid\"]\n",
    "#list functions:\n",
    "    #append and pop\n",
    "w.append(\"Harry\")\n",
    "w.append(69)\n",
    "w.pop(1)\n",
    "w\n",
    "#len(w)\n",
    "#type(w[2])\n",
    "#len(w[2])\n"
   ]
  },
  {
   "cell_type": "markdown",
   "id": "a12d7016",
   "metadata": {},
   "source": [
    "# Dictioary,Functions,If else condictions"
   ]
  },
  {
   "cell_type": "code",
   "execution_count": null,
   "id": "40e3217d",
   "metadata": {},
   "outputs": [],
   "source": []
  }
 ],
 "metadata": {
  "kernelspec": {
   "display_name": "Python 3 (ipykernel)",
   "language": "python",
   "name": "python3"
  },
  "language_info": {
   "codemirror_mode": {
    "name": "ipython",
    "version": 3
   },
   "file_extension": ".py",
   "mimetype": "text/x-python",
   "name": "python",
   "nbconvert_exporter": "python",
   "pygments_lexer": "ipython3",
   "version": "3.9.7"
  }
 },
 "nbformat": 4,
 "nbformat_minor": 5
}
